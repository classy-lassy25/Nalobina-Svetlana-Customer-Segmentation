{
 "cells": [
  {
   "cell_type": "code",
   "execution_count": 93,
   "metadata": {},
   "outputs": [],
   "source": [
    "import pandas as pd"
   ]
  },
  {
   "cell_type": "code",
   "execution_count": 94,
   "metadata": {},
   "outputs": [],
   "source": [
    "pd.set_option('display.max_columns',50)"
   ]
  },
  {
   "cell_type": "code",
   "execution_count": 95,
   "metadata": {},
   "outputs": [],
   "source": [
    "df = pd.read_excel(\"transactions.xlsx\")"
   ]
  },
  {
   "cell_type": "code",
   "execution_count": 96,
   "metadata": {},
   "outputs": [
    {
     "data": {
      "text/html": [
       "<div>\n",
       "<style scoped>\n",
       "    .dataframe tbody tr th:only-of-type {\n",
       "        vertical-align: middle;\n",
       "    }\n",
       "\n",
       "    .dataframe tbody tr th {\n",
       "        vertical-align: top;\n",
       "    }\n",
       "\n",
       "    .dataframe thead th {\n",
       "        text-align: right;\n",
       "    }\n",
       "</style>\n",
       "<table border=\"1\" class=\"dataframe\">\n",
       "  <thead>\n",
       "    <tr style=\"text-align: right;\">\n",
       "      <th></th>\n",
       "      <th>visitor_id</th>\n",
       "      <th>visit_date</th>\n",
       "      <th>total_transaction_revenue</th>\n",
       "      <th>channel_grouping</th>\n",
       "      <th>country</th>\n",
       "      <th>total_hits</th>\n",
       "      <th>total_pageviews</th>\n",
       "      <th>total_time_on_site</th>\n",
       "      <th>visit_number</th>\n",
       "      <th>cluster</th>\n",
       "      <th>device_category</th>\n",
       "      <th>products</th>\n",
       "    </tr>\n",
       "  </thead>\n",
       "  <tbody>\n",
       "    <tr>\n",
       "      <th>0</th>\n",
       "      <td>213131142648941</td>\n",
       "      <td>2017-04-28</td>\n",
       "      <td>39590000</td>\n",
       "      <td>Direct</td>\n",
       "      <td>United States</td>\n",
       "      <td>14</td>\n",
       "      <td>13</td>\n",
       "      <td>272</td>\n",
       "      <td>1</td>\n",
       "      <td>1</td>\n",
       "      <td>desktop</td>\n",
       "      <td>1</td>\n",
       "    </tr>\n",
       "    <tr>\n",
       "      <th>1</th>\n",
       "      <td>435324061339869</td>\n",
       "      <td>2016-10-21</td>\n",
       "      <td>46790000</td>\n",
       "      <td>Referral</td>\n",
       "      <td>United States</td>\n",
       "      <td>14</td>\n",
       "      <td>11</td>\n",
       "      <td>627</td>\n",
       "      <td>2</td>\n",
       "      <td>1</td>\n",
       "      <td>desktop</td>\n",
       "      <td>1</td>\n",
       "    </tr>\n",
       "    <tr>\n",
       "      <th>2</th>\n",
       "      <td>562678147042735</td>\n",
       "      <td>2017-04-24</td>\n",
       "      <td>62610000</td>\n",
       "      <td>Referral</td>\n",
       "      <td>United States</td>\n",
       "      <td>18</td>\n",
       "      <td>16</td>\n",
       "      <td>319</td>\n",
       "      <td>2</td>\n",
       "      <td>0</td>\n",
       "      <td>desktop</td>\n",
       "      <td>1</td>\n",
       "    </tr>\n",
       "    <tr>\n",
       "      <th>3</th>\n",
       "      <td>562678147042735</td>\n",
       "      <td>2017-04-24</td>\n",
       "      <td>97700000</td>\n",
       "      <td>Referral</td>\n",
       "      <td>United States</td>\n",
       "      <td>18</td>\n",
       "      <td>16</td>\n",
       "      <td>319</td>\n",
       "      <td>2</td>\n",
       "      <td>0</td>\n",
       "      <td>desktop</td>\n",
       "      <td>1</td>\n",
       "    </tr>\n",
       "    <tr>\n",
       "      <th>4</th>\n",
       "      <td>585708896049892</td>\n",
       "      <td>2016-12-21</td>\n",
       "      <td>45970000</td>\n",
       "      <td>Referral</td>\n",
       "      <td>United States</td>\n",
       "      <td>22</td>\n",
       "      <td>20</td>\n",
       "      <td>634</td>\n",
       "      <td>1</td>\n",
       "      <td>0</td>\n",
       "      <td>desktop</td>\n",
       "      <td>3</td>\n",
       "    </tr>\n",
       "  </tbody>\n",
       "</table>\n",
       "</div>"
      ],
      "text/plain": [
       "        visitor_id visit_date  total_transaction_revenue channel_grouping  \\\n",
       "0  213131142648941 2017-04-28                   39590000           Direct   \n",
       "1  435324061339869 2016-10-21                   46790000         Referral   \n",
       "2  562678147042735 2017-04-24                   62610000         Referral   \n",
       "3  562678147042735 2017-04-24                   97700000         Referral   \n",
       "4  585708896049892 2016-12-21                   45970000         Referral   \n",
       "\n",
       "         country  total_hits  total_pageviews  total_time_on_site  \\\n",
       "0  United States          14               13                 272   \n",
       "1  United States          14               11                 627   \n",
       "2  United States          18               16                 319   \n",
       "3  United States          18               16                 319   \n",
       "4  United States          22               20                 634   \n",
       "\n",
       "   visit_number  cluster device_category  products  \n",
       "0             1        1         desktop         1  \n",
       "1             2        1         desktop         1  \n",
       "2             2        0         desktop         1  \n",
       "3             2        0         desktop         1  \n",
       "4             1        0         desktop         3  "
      ]
     },
     "execution_count": 96,
     "metadata": {},
     "output_type": "execute_result"
    }
   ],
   "source": [
    "df.head()"
   ]
  },
  {
   "cell_type": "code",
   "execution_count": 97,
   "metadata": {},
   "outputs": [
    {
     "data": {
      "text/plain": [
       "(11286, 12)"
      ]
     },
     "execution_count": 97,
     "metadata": {},
     "output_type": "execute_result"
    }
   ],
   "source": [
    "df.shape"
   ]
  },
  {
   "cell_type": "code",
   "execution_count": 100,
   "metadata": {},
   "outputs": [
    {
     "data": {
      "text/plain": [
       "11286"
      ]
     },
     "execution_count": 100,
     "metadata": {},
     "output_type": "execute_result"
    }
   ],
   "source": [
    "len(df)"
   ]
  },
  {
   "cell_type": "markdown",
   "metadata": {},
   "source": [
    "# Simulating Values for Region and City"
   ]
  },
  {
   "cell_type": "code",
   "execution_count": 101,
   "metadata": {},
   "outputs": [
    {
     "name": "stdout",
     "output_type": "stream",
     "text": [
      "              region              city\n",
      "0           Kentucky      Madisonville\n",
      "1       South Dakota         Watertown\n",
      "2               Iowa              Ames\n",
      "3               Ohio  Garfield Heights\n",
      "4           Colorado         Littleton\n",
      "...              ...               ...\n",
      "11281  New Hampshire             Salem\n",
      "11282         Nevada        Sun Valley\n",
      "11283       Nebraska           Lincoln\n",
      "11284        Florida      Four Corners\n",
      "11285          Texas             Pharr\n",
      "\n",
      "[11286 rows x 2 columns]\n"
     ]
    }
   ],
   "source": [
    "import pandas as pd\n",
    "import random\n",
    "import geonamescache\n",
    "\n",
    "# Set the random seed for reproducibility\n",
    "random.seed(42)\n",
    "\n",
    "# Create a geonamescache instance\n",
    "gc = geonamescache.GeonamesCache()\n",
    "\n",
    "# Get the list of US states\n",
    "us_states = gc.get_us_states()\n",
    "states_list = list(us_states.keys())\n",
    "\n",
    "# Get the list of cities\n",
    "cities = gc.get_cities()\n",
    "\n",
    "# Create a dictionary to map state codes to their cities\n",
    "state_to_cities = {}\n",
    "for city_info in cities.values():\n",
    "    if city_info['countrycode'] == 'US':  # Ensure the city is in the US\n",
    "        state_code = city_info['admin1code']\n",
    "        city_name = city_info['name']\n",
    "        if state_code in state_to_cities:\n",
    "            state_to_cities[state_code].append(city_name)\n",
    "        else:\n",
    "            state_to_cities[state_code] = [city_name]\n",
    "\n",
    "# Define weights for states to skew the selection\n",
    "# # For example, California (CA), Texas (TX), and Florida (FL) are more likely to be chosen\n",
    "# state_weights = [1 if state not in ['CA', 'TX', 'FL'] else 10 for state in states_list]\n",
    "\n",
    "# Generate random weights for each state\n",
    "# state_weights = [random.randint(1, 10) for _ in states_list]\n",
    "state_weights = [random.randint(1, 50)if state not in ['CA', 'TX', 'FL'] else 50 for state in states_list]\n",
    "# Sample DataFrame\n",
    "data = pd.DataFrame({'region': [None]*len(df), 'city': [None]*len(df)})\n",
    "\n",
    "# Fill the DataFrame\n",
    "for i in range(len(data)):\n",
    "    state_code = random.choices(states_list, weights=state_weights, k=1)[0]\n",
    "    state_name = us_states[state_code]['name']\n",
    "    city_name = random.choice(state_to_cities[state_code])\n",
    "    data.at[i, 'region'] = state_name\n",
    "    data.at[i, 'city'] = city_name\n",
    "\n",
    "df[\"region\"]=data[\"region\"]\n",
    "df[\"city\"] = data[\"city\"]\n"
   ]
  },
  {
   "cell_type": "code",
   "execution_count": 102,
   "metadata": {},
   "outputs": [],
   "source": [
    "df[\"region\"]=data[\"region\"]\n",
    "df[\"city\"] = data[\"city\"]"
   ]
  },
  {
   "cell_type": "code",
   "execution_count": 74,
   "metadata": {},
   "outputs": [],
   "source": [
    "# df.drop(columns=\"Unnamed: 0\",inplace=True)"
   ]
  },
  {
   "cell_type": "code",
   "execution_count": 103,
   "metadata": {},
   "outputs": [
    {
     "data": {
      "text/plain": [
       "Index(['visitor_id', 'visit_date', 'total_transaction_revenue',\n",
       "       'channel_grouping', 'country', 'total_hits', 'total_pageviews',\n",
       "       'total_time_on_site', 'visit_number', 'cluster', 'device_category',\n",
       "       'products', 'region', 'city'],\n",
       "      dtype='object')"
      ]
     },
     "execution_count": 103,
     "metadata": {},
     "output_type": "execute_result"
    }
   ],
   "source": [
    "df.columns"
   ]
  },
  {
   "cell_type": "code",
   "execution_count": 104,
   "metadata": {},
   "outputs": [
    {
     "data": {
      "text/html": [
       "<div>\n",
       "<style scoped>\n",
       "    .dataframe tbody tr th:only-of-type {\n",
       "        vertical-align: middle;\n",
       "    }\n",
       "\n",
       "    .dataframe tbody tr th {\n",
       "        vertical-align: top;\n",
       "    }\n",
       "\n",
       "    .dataframe thead th {\n",
       "        text-align: right;\n",
       "    }\n",
       "</style>\n",
       "<table border=\"1\" class=\"dataframe\">\n",
       "  <thead>\n",
       "    <tr style=\"text-align: right;\">\n",
       "      <th></th>\n",
       "      <th>visitor_id</th>\n",
       "      <th>visit_date</th>\n",
       "      <th>total_transaction_revenue</th>\n",
       "      <th>channel_grouping</th>\n",
       "      <th>country</th>\n",
       "      <th>total_hits</th>\n",
       "      <th>total_pageviews</th>\n",
       "      <th>total_time_on_site</th>\n",
       "      <th>visit_number</th>\n",
       "      <th>cluster</th>\n",
       "      <th>device_category</th>\n",
       "      <th>products</th>\n",
       "      <th>region</th>\n",
       "      <th>city</th>\n",
       "    </tr>\n",
       "  </thead>\n",
       "  <tbody>\n",
       "    <tr>\n",
       "      <th>0</th>\n",
       "      <td>213131142648941</td>\n",
       "      <td>2017-04-28</td>\n",
       "      <td>39590000</td>\n",
       "      <td>Direct</td>\n",
       "      <td>United States</td>\n",
       "      <td>14</td>\n",
       "      <td>13</td>\n",
       "      <td>272</td>\n",
       "      <td>1</td>\n",
       "      <td>1</td>\n",
       "      <td>desktop</td>\n",
       "      <td>1</td>\n",
       "      <td>Kentucky</td>\n",
       "      <td>Madisonville</td>\n",
       "    </tr>\n",
       "    <tr>\n",
       "      <th>1</th>\n",
       "      <td>435324061339869</td>\n",
       "      <td>2016-10-21</td>\n",
       "      <td>46790000</td>\n",
       "      <td>Referral</td>\n",
       "      <td>United States</td>\n",
       "      <td>14</td>\n",
       "      <td>11</td>\n",
       "      <td>627</td>\n",
       "      <td>2</td>\n",
       "      <td>1</td>\n",
       "      <td>desktop</td>\n",
       "      <td>1</td>\n",
       "      <td>South Dakota</td>\n",
       "      <td>Watertown</td>\n",
       "    </tr>\n",
       "    <tr>\n",
       "      <th>2</th>\n",
       "      <td>562678147042735</td>\n",
       "      <td>2017-04-24</td>\n",
       "      <td>62610000</td>\n",
       "      <td>Referral</td>\n",
       "      <td>United States</td>\n",
       "      <td>18</td>\n",
       "      <td>16</td>\n",
       "      <td>319</td>\n",
       "      <td>2</td>\n",
       "      <td>0</td>\n",
       "      <td>desktop</td>\n",
       "      <td>1</td>\n",
       "      <td>Iowa</td>\n",
       "      <td>Ames</td>\n",
       "    </tr>\n",
       "    <tr>\n",
       "      <th>3</th>\n",
       "      <td>562678147042735</td>\n",
       "      <td>2017-04-24</td>\n",
       "      <td>97700000</td>\n",
       "      <td>Referral</td>\n",
       "      <td>United States</td>\n",
       "      <td>18</td>\n",
       "      <td>16</td>\n",
       "      <td>319</td>\n",
       "      <td>2</td>\n",
       "      <td>0</td>\n",
       "      <td>desktop</td>\n",
       "      <td>1</td>\n",
       "      <td>Ohio</td>\n",
       "      <td>Garfield Heights</td>\n",
       "    </tr>\n",
       "    <tr>\n",
       "      <th>4</th>\n",
       "      <td>585708896049892</td>\n",
       "      <td>2016-12-21</td>\n",
       "      <td>45970000</td>\n",
       "      <td>Referral</td>\n",
       "      <td>United States</td>\n",
       "      <td>22</td>\n",
       "      <td>20</td>\n",
       "      <td>634</td>\n",
       "      <td>1</td>\n",
       "      <td>0</td>\n",
       "      <td>desktop</td>\n",
       "      <td>3</td>\n",
       "      <td>Colorado</td>\n",
       "      <td>Littleton</td>\n",
       "    </tr>\n",
       "  </tbody>\n",
       "</table>\n",
       "</div>"
      ],
      "text/plain": [
       "        visitor_id visit_date  total_transaction_revenue channel_grouping  \\\n",
       "0  213131142648941 2017-04-28                   39590000           Direct   \n",
       "1  435324061339869 2016-10-21                   46790000         Referral   \n",
       "2  562678147042735 2017-04-24                   62610000         Referral   \n",
       "3  562678147042735 2017-04-24                   97700000         Referral   \n",
       "4  585708896049892 2016-12-21                   45970000         Referral   \n",
       "\n",
       "         country  total_hits  total_pageviews  total_time_on_site  \\\n",
       "0  United States          14               13                 272   \n",
       "1  United States          14               11                 627   \n",
       "2  United States          18               16                 319   \n",
       "3  United States          18               16                 319   \n",
       "4  United States          22               20                 634   \n",
       "\n",
       "   visit_number  cluster device_category  products        region  \\\n",
       "0             1        1         desktop         1      Kentucky   \n",
       "1             2        1         desktop         1  South Dakota   \n",
       "2             2        0         desktop         1          Iowa   \n",
       "3             2        0         desktop         1          Ohio   \n",
       "4             1        0         desktop         3      Colorado   \n",
       "\n",
       "               city  \n",
       "0      Madisonville  \n",
       "1         Watertown  \n",
       "2              Ames  \n",
       "3  Garfield Heights  \n",
       "4         Littleton  "
      ]
     },
     "execution_count": 104,
     "metadata": {},
     "output_type": "execute_result"
    }
   ],
   "source": [
    "df.head()"
   ]
  },
  {
   "cell_type": "code",
   "execution_count": 106,
   "metadata": {},
   "outputs": [],
   "source": [
    "df.to_excel(\"transactions.xlsx\",index=False)"
   ]
  },
  {
   "cell_type": "code",
   "execution_count": null,
   "metadata": {},
   "outputs": [],
   "source": []
  }
 ],
 "metadata": {
  "kernelspec": {
   "display_name": "Python 3",
   "language": "python",
   "name": "python3"
  },
  "language_info": {
   "codemirror_mode": {
    "name": "ipython",
    "version": 3
   },
   "file_extension": ".py",
   "mimetype": "text/x-python",
   "name": "python",
   "nbconvert_exporter": "python",
   "pygments_lexer": "ipython3",
   "version": "3.12.2"
  }
 },
 "nbformat": 4,
 "nbformat_minor": 2
}
