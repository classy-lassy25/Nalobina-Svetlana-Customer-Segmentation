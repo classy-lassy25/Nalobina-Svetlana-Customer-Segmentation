{
 "cells": [
  {
   "cell_type": "code",
   "execution_count": 1,
   "metadata": {},
   "outputs": [],
   "source": [
    "import pandas as pd\n",
    "from google.oauth2.service_account import Credentials\n",
    "from pandas import json_normalize"
   ]
  },
  {
   "cell_type": "code",
   "execution_count": 2,
   "metadata": {},
   "outputs": [
    {
     "name": "stderr",
     "output_type": "stream",
     "text": [
      "C:\\Users\\Ahmed\\AppData\\Local\\Temp\\ipykernel_8276\\1568908006.py:40: FutureWarning: read_gbq is deprecated and will be removed in a future version. Please use pandas_gbq.read_gbq instead: https://pandas-gbq.readthedocs.io/en/latest/api.html#pandas_gbq.read_gbq\n",
      "  data = pd.read_gbq(query, project_id=project_id,location=job_location, credentials=credential)\n"
     ]
    }
   ],
   "source": [
    "project_id = 'southern-range-348711'\n",
    "query = \"\"\"SELECT\n",
    "  fullVisitorId AS visitor_id,\n",
    "  visitNumber AS visit_number,\n",
    "  visitId AS visit_id,\n",
    "  TIMESTAMP_SECONDS(visitStartTime) AS visit_start_time,\n",
    "  DATE(TIMESTAMP_SECONDS(visitStartTime)) AS visit_date,\n",
    "  channelGrouping AS channel_grouping,\n",
    "  socialEngagementType AS social_engagement_type,\n",
    "  totals.visits AS total_visits,\n",
    "  totals.hits AS total_hits,\n",
    "  product.v2ProductName as product_name,\n",
    "  product.v2ProductCategory as product_category,\n",
    "  product.productPrice as product_price,\n",
    "  totals.pageviews AS total_pageviews,\n",
    "  totals.timeOnSite AS total_time_on_site,\n",
    "  totals.bounces AS total_bounces,\n",
    "  totals.screenviews AS total_screenviews,\n",
    "  hits.transaction.transactionRevenue AS total_transaction_revenue,\n",
    "  trafficSource.source AS traffic_source,\n",
    "  trafficSource.medium AS traffic_medium,\n",
    "  device.browser AS browser,\n",
    "  device.operatingSystem AS operating_system,\n",
    "  device.deviceCategory AS device_category,\n",
    "  geoNetwork.continent AS continent,\n",
    "  geoNetwork.subContinent AS sub_continent,\n",
    "  geoNetwork.country AS country,\n",
    "  geoNetwork.region AS region,\n",
    "  geoNetwork.metro AS metro_area,\n",
    "  geoNetwork.city AS city\n",
    "FROM\n",
    "  `southern-range-348711.GA4_Sample_Data.Google Analytics Data`,\n",
    "UNNEST(hits) AS hits,\n",
    "UNNEST(hits.product) AS product\n",
    "WHERE  hits.transaction.transactionRevenue is not null;\n",
    "\"\"\"\n",
    "credential_file = \"southern-range-348711-4efd02e3ba9e.json\"\n",
    "credential = Credentials.from_service_account_file(credential_file)\n",
    "job_location = \"US\"\n",
    "data = pd.read_gbq(query, project_id=project_id,location=job_location, credentials=credential)"
   ]
  },
  {
   "cell_type": "code",
   "execution_count": 3,
   "metadata": {},
   "outputs": [],
   "source": [
    "data.to_csv(\"data_fetched_only_transactions.csv\",index=False)"
   ]
  },
  {
   "cell_type": "code",
   "execution_count": 4,
   "metadata": {},
   "outputs": [
    {
     "data": {
      "text/plain": [
       "visitor_id                       0\n",
       "visit_number                     0\n",
       "visit_id                         0\n",
       "visit_start_time                 0\n",
       "visit_date                       0\n",
       "channel_grouping                 0\n",
       "social_engagement_type           0\n",
       "total_visits                     0\n",
       "total_hits                       0\n",
       "product_name                     0\n",
       "product_category                 0\n",
       "product_price                    0\n",
       "total_pageviews                  0\n",
       "total_time_on_site               9\n",
       "total_bounces                36744\n",
       "total_screenviews            36744\n",
       "total_transaction_revenue        0\n",
       "traffic_source                   0\n",
       "traffic_medium                   0\n",
       "browser                          0\n",
       "operating_system                 0\n",
       "device_category                  0\n",
       "continent                        0\n",
       "sub_continent                    0\n",
       "country                          0\n",
       "region                           0\n",
       "metro_area                       0\n",
       "city                             0\n",
       "dtype: int64"
      ]
     },
     "execution_count": 4,
     "metadata": {},
     "output_type": "execute_result"
    }
   ],
   "source": [
    "data = pd.read_csv(\"data_fetched_only_transactions.csv\")\n",
    "data.isnull().sum()"
   ]
  },
  {
   "cell_type": "code",
   "execution_count": 5,
   "metadata": {},
   "outputs": [
    {
     "data": {
      "text/plain": [
       "(36744, 28)"
      ]
     },
     "execution_count": 5,
     "metadata": {},
     "output_type": "execute_result"
    }
   ],
   "source": [
    "data.shape"
   ]
  }
 ],
 "metadata": {
  "kernelspec": {
   "display_name": "Python 3",
   "language": "python",
   "name": "python3"
  },
  "language_info": {
   "codemirror_mode": {
    "name": "ipython",
    "version": 3
   },
   "file_extension": ".py",
   "mimetype": "text/x-python",
   "name": "python",
   "nbconvert_exporter": "python",
   "pygments_lexer": "ipython3",
   "version": "3.10.11"
  }
 },
 "nbformat": 4,
 "nbformat_minor": 2
}
